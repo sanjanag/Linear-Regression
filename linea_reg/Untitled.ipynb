{
 "cells": [
  {
   "cell_type": "code",
   "execution_count": 7,
   "metadata": {
    "collapsed": false
   },
   "outputs": [],
   "source": [
    "import numpy as np\n",
    "import sys\n",
    "import matplotlib.pyplot as plt\n",
    "import math\n",
    "\n",
    "class LogisticRegression(object):\n",
    "\n",
    "    def __init__(self, trainfileName, testfileName):\n",
    "        self.alpha = 0.01\n",
    "        self.features = 0\n",
    "        \n",
    "        self.read_data(trainfileName, testfileName)\n",
    "        self.Beta = np.matrix( np.zeros((self.features+1))).getT()\n",
    "\n",
    "    def read_data(self, testfile, trainfile):\n",
    "        testfile = open(testfile, 'r')\n",
    "        trainfile = open(trainfile, 'r')\n",
    "        lines_train  = trainfile.readlines()\n",
    "        lines_test = testfile.readlines()\n",
    "        testfile.close()\n",
    "        trainfile.close()\n",
    "        self.trainsize  = len(lines_train)\n",
    "        self.testsize = len(lines_test)\n",
    "        len_s = 0\n",
    "        i = 0\n",
    "        for line in lines_train:\n",
    "            s = \" \".join(line.split(\",\"))\n",
    "            s = s.split()\n",
    "            s = [int(x) for x in s]\n",
    "            if i == 0:\n",
    "                self.features = len(s)-1\n",
    "                self.X_train = np.ones((self.trainsize, self.features+1),dtype=np.float32)\n",
    "                self.Y_train = np.ones((self.trainsize),dtype=np.float32)\n",
    "                len_s = len(s)\n",
    "            for j in range(1,len_s):\n",
    "                self.X_train[i, j] = s[j]\n",
    "            self.Y_train[i] = s[0]\n",
    "            i = i+1\n",
    "\n",
    "        self.X_train = np.matrix(self.X_train, dtype = int)\n",
    "        self.Y_train = np.matrix(self.Y_train).getT()\n",
    "        \n",
    "        i = 0\n",
    "        for line in lines_test:\n",
    "            s = \" \".join(line.split(\",\"))\n",
    "            s = s.split()\n",
    "            s = [int(x) for x in s]\n",
    "            if i == 0:\n",
    "                self.X_test = np.ones((self.testsize, self.features+1))\n",
    "                self.Y_test = np.ones((self.testsize))\n",
    "                len_s = len(s)\n",
    "            for j in range(1,len_s):\n",
    "                self.X_test[i,j] = s[j]\n",
    "            self.Y_test[i] = s[0]\n",
    "            i = i+1\n",
    "        self.X_test = np.matrix(self.X_test)\n",
    "        self.Y_test = np.matrix(self.Y_test).getT()\n",
    "\n",
    "    def get_cost(self, weight, target, size):\n",
    "        y = np.dot(weight,self.Beta)\n",
    "        \n",
    "        y = 1/(1+np.exp(-y))[0,:]\n",
    "        label=np.zeros((len(y)))\n",
    "        for i in range(0,len(y)):\n",
    "            if y[i][0][0]>0.5:\n",
    "                #print y[i][0]\n",
    "                label[i]=1\n",
    "            else:\n",
    "                label[i]=0\n",
    "        #print label\n",
    "        #print np.sum(label==target)\n",
    "        return -(np.asarray(target)*np.asarray(np.log(y))+np.asarray(1.0-target)*np.asarray(np.log(1.0-y))).mean()\n",
    "        \n",
    "    def get_Grad(self, X, Y):\n",
    "        a = X*self.Beta\n",
    "        for i in range(a.size):\n",
    "            a[i,0] = 1/(1+math.exp(-a[i,0]))\n",
    "        a = ((a-Y).getT())*X\n",
    "        return (a*self.lr).getT()\n",
    "        \n",
    "    def train(self, X, Y, size):\n",
    "        costList = []\n",
    "        cost = self.get_cost(X,Y,size)\n",
    "        print \"initial cost \", cost\n",
    "        prevcost = cost\n",
    "        self.lr = np.identity(self.features+1)\n",
    "        for i in range(self.features+1):\n",
    "            self.lr[i,i] = self.alpha/(self.trainsize)\n",
    "        i = 0\n",
    "        while(i < 10000):\n",
    "            grad = self.get_Grad(X,Y)\n",
    "#            print grad\n",
    "            self.Beta = self.Beta - grad\n",
    " #           print self.Beta\n",
    "            cost = self.get_cost(X,Y,size)\n",
    "            costList.append(cost)\n",
    "            if i%100 == 0:\n",
    "                print cost\n",
    "            \n",
    "            i = i+1\n",
    "            \n",
    "            if(cost >= prevcost or (cost < prevcost and abs(cost - prevcost) < 0.0000001)):\n",
    "                print cost, prevcost\n",
    "                break\n",
    "            else:\n",
    "                prevcost = cost\n",
    "        return self.Beta, costList, i\n",
    "   \n"
   ]
  },
  {
   "cell_type": "code",
   "execution_count": 4,
   "metadata": {
    "collapsed": true
   },
   "outputs": [],
   "source": [
    "def plot_learning_curve(costList, n_epoch):\n",
    "    print \"length of costList \", len(costList), \" n_epoch \", n_epoch\n",
    "    plt.plot(np.arange(n_epoch), np.array(costList))\n",
    "    plt.xlabel('epochs')\n",
    "    plt.ylabel('cost')\n",
    "    plt.show()"
   ]
  },
  {
   "cell_type": "code",
   "execution_count": 6,
   "metadata": {
    "collapsed": false
   },
   "outputs": [
    {
     "name": "stdout",
     "output_type": "stream",
     "text": [
      "initial cost  0.69314718056\n",
      "0.684468821968\n",
      "0.347737552975\n",
      "0.29419678202\n",
      "0.281568223497\n",
      "0.279292499161\n",
      "0.279291505074 0.279291549634\n",
      "length of costList  404  n_epoch  404\n"
     ]
    },
    {
     "name": "stderr",
     "output_type": "stream",
     "text": [
      "/usr/lib/python2.7/site-packages/matplotlib/backends/backend_gtk.py:253: Warning: Source ID 18 was not found when attempting to remove it\n",
      "  gobject.source_remove(self._idle_event_id)\n"
     ]
    }
   ],
   "source": [
    "trainf = \"SPECT.train\"#sys.argv[1]\n",
    "testf = \"SPECT.test\" #sys.argv[2]\n",
    "#alpha = float(sys.argv[3])\n",
    "\n",
    "model = LogisticRegression(trainf, testf)\n",
    "\n",
    "Beta, costList, n_epoch = model.train(model.X_train, model.Y_train, model.trainsize)\n",
    "\n",
    "\n",
    "\n",
    "plot_learning_curve(costList, n_epoch)"
   ]
  },
  {
   "cell_type": "code",
   "execution_count": null,
   "metadata": {
    "collapsed": true
   },
   "outputs": [],
   "source": []
  }
 ],
 "metadata": {
  "kernelspec": {
   "display_name": "Python 2",
   "language": "python",
   "name": "python2"
  },
  "language_info": {
   "codemirror_mode": {
    "name": "ipython",
    "version": 2
   },
   "file_extension": ".py",
   "mimetype": "text/x-python",
   "name": "python",
   "nbconvert_exporter": "python",
   "pygments_lexer": "ipython2",
   "version": "2.7.11"
  }
 },
 "nbformat": 4,
 "nbformat_minor": 0
}
